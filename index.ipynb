{
 "cells": [
  {
   "cell_type": "markdown",
   "metadata": {},
   "source": [
    "# Probability Density Functions\n",
    "So far we have looked at discrete random variables and how to calculate/visualize their distribution functions. In this lesson, we shall deal with continuous variables and probability density function (pdf) as a way to model the probability of occurrence for such variables.\n",
    "\n",
    "## Objectives\n",
    "Students would be able to :\n",
    "* Understand the use of calculating PDFs for real valued random variables\n",
    "* Differentiate between probability and probability densities\n",
    "* Understand Kernel Density Estimation plots for PDFs\n"
   ]
  },
  {
   "cell_type": "markdown",
   "metadata": {},
   "source": [
    "## Continuous Variables:"
   ]
  },
  {
   "cell_type": "markdown",
   "metadata": {},
   "source": [
    "Continuous variables can take any real values. Think of it like this: If that number in the variable can keep counting, then its most probably a continuous variable.\n",
    "\n",
    "### Example:\n",
    "\n",
    "Let's say that the height of a person is 6.1 feet and thats where we normally stop. Or lets say we want to get a bit more accurate and call it 6.15 feet. \n",
    "\n",
    "But in reality the height could actually be ..\n",
    "\n",
    "6.1520436512094802388472039874222 ………………………………………………… Feet. \n",
    "\n",
    "The dots show that the calculation can be ongoing infinitely based on what measures and equipment we use for calculating height. This is what we meant by  “keep counting”. \n",
    "\n",
    "<img src = \"height.jpg\" width= 200>\n",
    "\n",
    "> We can not identify the exact value of a continuous variable\n",
    "\n",
    "So height , weight, blood pressure  etc. and such other values would be categorized as continuous variable."
   ]
  },
  {
   "cell_type": "markdown",
   "metadata": {},
   "source": [
    "### Probability vs. Probability Density \n",
    "\n",
    "Continuous variables can take on an infinite number of variables. For example, you could have a random variable Y that represents possible heights for a number of individuals in a survey group can be shown as given below:\n",
    "<img src=\"pdf1.png\" width = 300>"
   ]
  },
  {
   "cell_type": "markdown",
   "metadata": {},
   "source": [
    "Looking at above histogram we can see that most of the values lie around the mean (around 67 inches). As we move away from the mean on both directions, the frequency of observations reduce creating two tails at both ends. The red line above shows a probability \"**Density**\" function, as compared to Probability functions we saw with cdf and pmf. A Probability Density Function (pdf) helps identify the regions in the distribution where observations are more likely to occur i.e. it is more dense. So for the distribution above, the mean region has a high probability density as compared to tails which is reflected on y -axis. This is an example of a **Normal Distribution** which we shall look at next. \n",
    "\n",
    ">The probability density function(also called a probability distribution function) shown above shows all possible values for height, which for this case, has an infinite amount of possibilities. \n",
    "\n",
    "We can use probability density functions to answer a question like:\n",
    "What is the probability that a person's height is between 60  and 70  inches? \n",
    "Written in notation, the question becomes:\n",
    "\n",
    "> **P( 60 < Height < 70 )**"
   ]
  },
  {
   "cell_type": "markdown",
   "metadata": {},
   "source": [
    "### Interpreting pdf"
   ]
  },
  {
   "cell_type": "markdown",
   "metadata": {},
   "source": [
    "Probability functions are great for figuring out **intervals** because as shown above, it is hard to identify an exact point. A height of 6 feet (72 inches) is actually considered interval between say 5.99 feet and 6.01 feet which makes it an interval for dealing with this continuous variable. So we have to be careful when reading probability density functions, especially when it comes to exact numbers. For heights, What about the probability any person will weigh exactly 6 feet? Written in notation, the question would be:\n",
    "\n",
    "> **P( Height = 72 )**\n",
    "\n",
    "Looking at the graph, you might think that the probability of a person having height of exactly six feet it 0.05 or 5%, but this not accurate. The idea that 5% of people are **exactly** 6 ft tall is just not conceivable. Heights would differ in terms of millimeters, micrometers or even nanometers. The person could be 6.00012 or 5.99987 feet tall. In fact, the probability of someone being exactly 6ft is so tiny. it’s practically **zero**. So we need to define an interval to capture the value. If we set our interval as heights between say 71.99 and 72.01 inches, we can write this as:\n",
    "\n",
    "> **P( 71.99 < Height < 72.01 )**\n",
    "\n",
    "And now we can say based on given data, this probability interval captures 5% of the population. The width of such an interval can be set according to nature of data under observation and also level of accuracy required. \n",
    "\n",
    "### The Area Under Curve\n",
    "\n",
    "Another way to look at this is that if you drew the “area” for a question like this, it would actually just be a line. And a line has zero area. So we need to measure intervals for continuous variables as shown below:\n",
    "\n",
    "![](pdf2.jpg)\n",
    "\n"
   ]
  },
  {
   "cell_type": "markdown",
   "metadata": {},
   "source": [
    "The formal mathematical representation for calculating a area under curve is shown below:\n",
    "![](formula.jpg)\n",
    "> **pdf is the probability function F(x), such that x falls between two values (a and b), is equals to the integral (area under the curve) from a to b**\n",
    "\n",
    "We shall look at this in detail when talking about normal distributions. "
   ]
  },
  {
   "cell_type": "markdown",
   "metadata": {},
   "source": [
    "### Visualizing probability Density Functions"
   ]
  },
  {
   "cell_type": "markdown",
   "metadata": {},
   "source": [
    "pdfs can be visualized using hitograms and kde (kernel density estimation) plots. We have had quite a bit of practice on histograms. We shall now look at how to plot a histogram and kde for a continuous variable in python. We shall use a dataset called Weight and Height dataset containing 10,000 observations about the heights and weights of individuals , grouped as male an female. Let's load the dataset in our python environment."
   ]
  },
  {
   "cell_type": "code",
   "execution_count": 30,
   "metadata": {},
   "outputs": [
    {
     "data": {
      "text/html": [
       "<div>\n",
       "<style scoped>\n",
       "    .dataframe tbody tr th:only-of-type {\n",
       "        vertical-align: middle;\n",
       "    }\n",
       "\n",
       "    .dataframe tbody tr th {\n",
       "        vertical-align: top;\n",
       "    }\n",
       "\n",
       "    .dataframe thead th {\n",
       "        text-align: right;\n",
       "    }\n",
       "</style>\n",
       "<table border=\"1\" class=\"dataframe\">\n",
       "  <thead>\n",
       "    <tr style=\"text-align: right;\">\n",
       "      <th></th>\n",
       "      <th>Gender</th>\n",
       "      <th>Height</th>\n",
       "      <th>Weight</th>\n",
       "    </tr>\n",
       "  </thead>\n",
       "  <tbody>\n",
       "    <tr>\n",
       "      <th>0</th>\n",
       "      <td>Male</td>\n",
       "      <td>73.847017</td>\n",
       "      <td>241.893563</td>\n",
       "    </tr>\n",
       "    <tr>\n",
       "      <th>1</th>\n",
       "      <td>Male</td>\n",
       "      <td>68.781904</td>\n",
       "      <td>162.310473</td>\n",
       "    </tr>\n",
       "    <tr>\n",
       "      <th>2</th>\n",
       "      <td>Male</td>\n",
       "      <td>74.110105</td>\n",
       "      <td>212.740856</td>\n",
       "    </tr>\n",
       "    <tr>\n",
       "      <th>3</th>\n",
       "      <td>Male</td>\n",
       "      <td>71.730978</td>\n",
       "      <td>220.042470</td>\n",
       "    </tr>\n",
       "    <tr>\n",
       "      <th>4</th>\n",
       "      <td>Male</td>\n",
       "      <td>69.881796</td>\n",
       "      <td>206.349801</td>\n",
       "    </tr>\n",
       "  </tbody>\n",
       "</table>\n",
       "</div>"
      ],
      "text/plain": [
       "  Gender     Height      Weight\n",
       "0   Male  73.847017  241.893563\n",
       "1   Male  68.781904  162.310473\n",
       "2   Male  74.110105  212.740856\n",
       "3   Male  71.730978  220.042470\n",
       "4   Male  69.881796  206.349801"
      ]
     },
     "execution_count": 30,
     "metadata": {},
     "output_type": "execute_result"
    }
   ],
   "source": [
    "import matplotlib.pyplot as plt\n",
    "plt.style.use('seaborn')\n",
    "import pandas as pd \n",
    "data = pd.read_csv('weight-height.csv')\n",
    "data.head()"
   ]
  },
  {
   "cell_type": "markdown",
   "metadata": {},
   "source": [
    "Great, lets first build a histogram for Height attribute. Remember for calculating probabilities we used normalization when drawing pmf an cdf. Now that we know how to do this, we can employ some of matplotlib's built in capabilities by using the matplotlib `hist()` function and passing parameter `normed=True` to it. That will automatically normalize a frequency based histogram to act like probability function. We shall set the number of bins = 20 to start with. Let's see this action:"
   ]
  },
  {
   "cell_type": "code",
   "execution_count": 67,
   "metadata": {},
   "outputs": [
    {
     "data": {
      "image/png": "[encoded data removed]",
      "text/plain": [
       "<matplotlib.figure.Figure at 0x1a2263d160>"
      ]
     },
     "metadata": {},
     "output_type": "display_data"
    },
    {
     "data": {
      "text/plain": [
       "<matplotlib.legend.Legend at 0x1a22777668>"
      ]
     },
     "execution_count": 67,
     "metadata": {},
     "output_type": "execute_result"
    },
    {
     "data": {
      "image/png": "[encoded data removed]",
      "text/plain": [
       "<matplotlib.figure.Figure at 0x1a225509b0>"
      ]
     },
     "metadata": {},
     "output_type": "display_data"
    }
   ],
   "source": [
    "data.Height.plot.hist(bins = 20, normed=False, label = 'No Normalization')\n",
    "plt.legend()\n",
    "plt.show()\n",
    "data.Height.plot.hist(bins = 20, normed=True, label = 'Normalized Histogram')\n",
    "plt.ylabel ('Probabilities')\n",
    "\n",
    "plt.legend()"
   ]
  },
  {
   "cell_type": "markdown",
   "metadata": {},
   "source": [
    "Great , this looks like data well centred around the mean (normallly distributed). Also, we can see that frequencies from first histogram have been converted into probabilities using the `normed` argument. \n",
    "\n",
    "#### How about visualizing the density function \n",
    "\n",
    "So a density curve would be a line, as we saw with height pdf above. There are number of ways to do that. Let's calculate the actual values which are used to plot the histogram above in numpy and try to draw a line \"at the peaks of histogram bars\" using simple interpolation. \n",
    "\n",
    "We can use the `np.histogram` function to calculate histogram values as shown above and interpolate between these values to plot a density curve. "
   ]
  },
  {
   "cell_type": "code",
   "execution_count": 62,
   "metadata": {},
   "outputs": [
    {
     "data": {
      "text/plain": [
       "(array([0.00040428, 0.00145539, 0.00533644, 0.01228997, 0.02603534,\n",
       "        0.04883648, 0.07034393, 0.08376588, 0.09031514, 0.08724265,\n",
       "        0.08958744, 0.08562554, 0.07204189, 0.05829652, 0.0412361 ,\n",
       "        0.02061805, 0.00970261, 0.00347677, 0.00153625, 0.00040428]),\n",
       " array([54.26313333, 55.49991378, 56.73669423, 57.97347468, 59.21025513,\n",
       "        60.44703558, 61.68381603, 62.92059648, 64.15737693, 65.39415738,\n",
       "        66.63093784, 67.86771829, 69.10449874, 70.34127919, 71.57805964,\n",
       "        72.81484009, 74.05162054, 75.28840099, 76.52518144, 77.7619619 ,\n",
       "        78.99874235]))"
      ]
     },
     "execution_count": 62,
     "metadata": {},
     "output_type": "execute_result"
    }
   ],
   "source": [
    "n, bins = np.histogram(x, 20, density=1)\n",
    "n , bins"
   ]
  },
  {
   "cell_type": "markdown",
   "metadata": {},
   "source": [
    "### Interpolation\n",
    "Here `n` are the values of histogram and `bins` are the edges of the bins. We can interpolate between these values to calculate the points for density curve as shown below. "
   ]
  },
  {
   "cell_type": "code",
   "execution_count": 63,
   "metadata": {},
   "outputs": [
    {
     "data": {
      "text/plain": [
       "[<matplotlib.lines.Line2D at 0x1152c3a90>]"
      ]
     },
     "execution_count": 63,
     "metadata": {},
     "output_type": "execute_result"
    },
    {
     "data": {
      "image/png": "[encoded data removed]",
      "text/plain": [
       "<matplotlib.figure.Figure at 0x115076a58>"
      ]
     },
     "metadata": {},
     "output_type": "display_data"
    }
   ],
   "source": [
    "# Initialize numpy arrays with zeros to store interpolated values\n",
    "pdfx = np.zeros(n.size)\n",
    "pdfy = np.zeros(n.size)\n",
    "\n",
    "# Interpolate through histogram bins \n",
    "# identify middle point between two neighbouring bins, in terms of x and y coords\n",
    "for k in range(n.size):\n",
    "    pdfx[k] = 0.5*(bins[k]+bins[k+1])\n",
    "    pdfy[k] = n[k]\n",
    "\n",
    "# plot the calculated curve\n",
    "plt.plot(pdfx, pdfy)\n"
   ]
  },
  {
   "cell_type": "markdown",
   "metadata": {},
   "source": [
    "There we have it. This plot reflects our density function. We can plot it on top of our normalized histogram now and get a complete picture of underlying data. "
   ]
  },
  {
   "cell_type": "code",
   "execution_count": 66,
   "metadata": {},
   "outputs": [
    {
     "data": {
      "image/png": "[encoded data removed]",
      "text/plain": [
       "<matplotlib.figure.Figure at 0x1a224117b8>"
      ]
     },
     "metadata": {},
     "output_type": "display_data"
    }
   ],
   "source": [
    "data.Height.plot.hist(bins = 20, normed=True, label = 'Normalized histogram', alpha = 0.7)\n",
    "# plot the calculated curve\n",
    "plt.plot(pdfx, pdfy, color = 'salmon', label = 'Density function')\n",
    "plt.ylabel ('Probabilities')\n",
    "plt.legend()\n",
    "plt.title ('PDF for height data')\n",
    "plt.show()"
   ]
  },
  {
   "cell_type": "markdown",
   "metadata": {},
   "source": [
    "So here it is. Our normalized histogram with a probability density curve. We shall move to a lab and exercise a bit more on these ideas next to analyze this dataset. \n"
   ]
  },
  {
   "cell_type": "markdown",
   "metadata": {},
   "source": [
    "## Summary\n",
    "In this lesson we looked at the probability density function and identified the difference between point probabilities that we saw with categorical variables, to probability density functions for continuous variables. We shall further explore these ideas in proceeding lessons. "
   ]
  },
  {
   "cell_type": "code",
   "execution_count": null,
   "metadata": {},
   "outputs": [],
   "source": []
  }
 ],
 "metadata": {
  "kernelspec": {
   "display_name": "Python 3",
   "language": "python",
   "name": "python3"
  },
  "language_info": {
   "codemirror_mode": {
    "name": "ipython",
    "version": 3
   },
   "file_extension": ".py",
   "mimetype": "text/x-python",
   "name": "python",
   "nbconvert_exporter": "python",
   "pygments_lexer": "ipython3",
   "version": "3.6.4"
  }
 },
 "nbformat": 4,
 "nbformat_minor": 2
}
