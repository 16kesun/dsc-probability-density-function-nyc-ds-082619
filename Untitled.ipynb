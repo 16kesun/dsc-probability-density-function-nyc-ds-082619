{
 "cells": [
  {
   "cell_type": "markdown",
   "metadata": {},
   "source": [
    "# Probability Density Functions\n",
    "So far we have looked at discrete random variables and how to calculate/visualize their distribution functions. In this lesson, we shall deal with continuous variables and probability density function (pdf) as a way to model the probability of occurrence for such variables.\n",
    "\n",
    "## Objectives\n",
    "Students would be able to :\n",
    "* Understand the use of calculating PDFs for real valued random variables\n",
    "* Differentiate between probability and probability densities\n",
    "* Understand Kernel Density Estimation plots for PDFs\n"
   ]
  },
  {
   "cell_type": "markdown",
   "metadata": {},
   "source": [
    "## Continuous Variables:"
   ]
  },
  {
   "cell_type": "markdown",
   "metadata": {},
   "source": [
    "Continuous variables can take any real values. Think of it like this: If that number in the variable can keep counting, then its most probably a continuous variable.\n",
    "\n",
    "### Example:\n",
    "\n",
    "Let's say that the height of a person is 6.1 feet and thats where we normally stop. Or lets say we want to get a bit more accurate and call it 6.15 feet. \n",
    "\n",
    "But in reality the height could actually be ..\n",
    "\n",
    "6.1520436512094802388472039874222 ………………………………………………… Feet. \n",
    "\n",
    "The dots show that the calculation can be ongoing infinitely based on what measures and equipment we use for calculating height. This is what we meant by  “keep counting”. \n",
    "\n",
    "<img src = \"height.jpg\" width= 200>\n",
    "\n",
    "> We can not identify the exact value of a continuous variable\n",
    "\n",
    "So height , weight, blood pressure  etc. would be categorized as continuous variable."
   ]
  },
  {
   "cell_type": "markdown",
   "metadata": {},
   "source": [
    "### Probability vs. Probability Density \n",
    "\n",
    "Continuous variables can take on an infinite number of variables. For example, you could have a random variable Y that represents possible heights for a number of individuals can be shown as given below:\n",
    "<img src=\"pdf1.png\" width = 300>"
   ]
  },
  {
   "cell_type": "markdown",
   "metadata": {},
   "source": [
    "Looking at above histogram we can see that most of the values lie around the mean (around 70 inches). As we move away from the mean on both directions, the frequency of observations reduce creating two tails at both ends. The red line above shows a \"**Probability Density**\" function, as compared to Probability functions we saw with cdf and pmf. A Probability Density Function (pdf) helps identify the regions in the distribution where observations are more likely to occur. So for the distribution above, the mean region has a high probability density as compared to tails. This is an example of a **Normal Distribution** which we shall look at next. \n",
    "\n",
    ">The probability density function(also called a probability distribution function) shown above shows all possible values for Y, which for this case, has an infinite amount of possibilities. \n",
    "\n",
    "We can use probability density functions to answer a question like:\n",
    "What is the probability that a person's height is between 60  and 70  inches? \n",
    "Written in notation, the question becomes:\n",
    "P(60 < Height < 70)"
   ]
  },
  {
   "cell_type": "markdown",
   "metadata": {},
   "source": [
    "### Interpreting pdf"
   ]
  },
  {
   "cell_type": "markdown",
   "metadata": {},
   "source": [
    "Probability functions are great for figuring out **intervals** because as shown above, it is hard to identify an exact point. a height of 6 feet is actually considered interval between say 5.99 feet and 6.01 feet which makes it an interval for dealing with the continuous variable. So we have to be careful when reading probability density function graphs, especially when it comes to exact numbers. For heights, What about the probability any person will weigh exactly 6 feet? Written in notation, the question would be:\n",
    "> **P(h=72)**\n",
    "\n",
    "Looking at the graph, you might think that the probability of a person having height of exactly six feet it 0.05 or 5%, but this not accurate. The idea that 5% of people are exactly 6 ft tall is not acceptable. Heights would differ in terms of millimeters, micrometers or even nanometers. the person could be 6.00012 or 5.99987 feet tall. In fact, the probability of someone being exactly 6ft is so tiny. it’s practically zero.\n",
    "\n",
    "Another way to look at this is that if you drew the “area” for a question like this, it would actually just be a line. And a line has zero area. So we need to measure intervals for continuous variables as shown below:\n",
    "![](pdf2.jpg)\n",
    "\n"
   ]
  },
  {
   "cell_type": "markdown",
   "metadata": {},
   "source": [
    "The formal mathematical representation for calculating a pdf is shown below:\n",
    "![](formula.jpg)\n",
    "> **The probability that x falls between two values (a and b) equals the integral (area under the curve) from a to b**"
   ]
  },
  {
   "cell_type": "markdown",
   "metadata": {},
   "source": [
    "### Visualizing probability Density Functions"
   ]
  },
  {
   "cell_type": "markdown",
   "metadata": {},
   "source": [
    "pdfs can be visualized using hitograms and kde (kernel density estimation) plots. We have had quite a bit of practice on histograms. We shall now look at how to plot a histogram and kde for a continuous variable in python. "
   ]
  },
  {
   "cell_type": "code",
   "execution_count": null,
   "metadata": {},
   "outputs": [],
   "source": []
  }
 ],
 "metadata": {
  "kernelspec": {
   "display_name": "Python 3",
   "language": "python",
   "name": "python3"
  },
  "language_info": {
   "codemirror_mode": {
    "name": "ipython",
    "version": 3
   },
   "file_extension": ".py",
   "mimetype": "text/x-python",
   "name": "python",
   "nbconvert_exporter": "python",
   "pygments_lexer": "ipython3",
   "version": "3.6.4"
  }
 },
 "nbformat": 4,
 "nbformat_minor": 2
}
